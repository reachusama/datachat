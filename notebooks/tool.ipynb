{
 "cells": [
  {
   "cell_type": "code",
   "execution_count": null,
   "outputs": [],
   "source": [
    "\"\"\"\n",
    "https://github.com/langchain-ai/langchain/blob/64f5968a81f823f70d7fb15cbbccb9e0664668d3/libs/community/langchain_community/tools/e2b_data_analysis/tool.py\n",
    "\"\"\""
   ],
   "metadata": {
    "collapsed": false
   }
  },
  {
   "cell_type": "code",
   "execution_count": 1,
   "metadata": {
    "collapsed": true,
    "ExecuteTime": {
     "end_time": "2024-01-08T14:50:31.492357Z",
     "start_time": "2024-01-08T14:50:30.746472Z"
    }
   },
   "outputs": [],
   "source": [
    "# Tool Import\n",
    "from langchain_core.callbacks import (\n",
    "    AsyncCallbackManagerForToolRun,\n",
    "    CallbackManager,\n",
    "    CallbackManagerForToolRun,\n",
    ")\n",
    "\n",
    "from langchain.pydantic_v1 import BaseModel, Field\n",
    "from typing import Optional, Type, Union\n",
    "\n",
    "from langchain_community.tools import BaseTool, Tool\n",
    "\n",
    "from pandas.core.frame import DataFrame"
   ]
  },
  {
   "cell_type": "code",
   "execution_count": 35,
   "outputs": [],
   "source": [
    "import pandas as pd"
   ],
   "metadata": {
    "collapsed": false,
    "ExecuteTime": {
     "end_time": "2024-01-07T15:19:28.274287Z",
     "start_time": "2024-01-07T15:19:28.266724Z"
    }
   }
  },
  {
   "cell_type": "code",
   "execution_count": 40,
   "outputs": [],
   "source": [
    "class DataFrameField:\n",
    "    @classmethod\n",
    "    def __get_validators__(cls):\n",
    "        yield cls.validate\n",
    "\n",
    "    @classmethod\n",
    "    def validate(cls, v):\n",
    "        if not isinstance(v, DataFrame):\n",
    "            raise ValueError('Must be a pandas DataFrame')\n",
    "        if v.empty:\n",
    "            raise ValueError('The DataFrame must not be empty')\n",
    "        return v"
   ],
   "metadata": {
    "collapsed": false,
    "ExecuteTime": {
     "end_time": "2024-01-07T15:20:27.336477Z",
     "start_time": "2024-01-07T15:20:27.312829Z"
    }
   }
  },
  {
   "cell_type": "code",
   "execution_count": 41,
   "outputs": [],
   "source": [
    "class StreamlitDataAnalysisToolArguments(BaseModel):\n",
    "    \"\"\"Arguments for the StreamlitDataAnalysisTool.\"\"\"\n",
    "    dataframe: DataFrameField = Field(...)\n",
    "    query: str = Field(...)"
   ],
   "metadata": {
    "collapsed": false,
    "ExecuteTime": {
     "end_time": "2024-01-07T15:20:27.649134Z",
     "start_time": "2024-01-07T15:20:27.633902Z"
    }
   }
  },
  {
   "cell_type": "code",
   "execution_count": 47,
   "outputs": [],
   "source": [
    "class StreamlitDataAnalysisTool(BaseTool):\n",
    "    \"\"\"Tool for creating streamlit python code for data analysis.\"\"\"\n",
    "\n",
    "    name = \"streamlit_data_analysis\"\n",
    "    args_schema: Type[BaseModel] = StreamlitDataAnalysisToolArguments\n",
    "    description: str\n",
    "\n",
    "    def _run(\n",
    "            self,\n",
    "            dataframe: DataFrameField,\n",
    "            query: str,\n",
    "            run_manager: Optional[CallbackManagerForToolRun] = None,\n",
    "            callbacks: Optional[CallbackManager] = None,\n",
    "    ) -> str:\n",
    "        llm = ChatOpenAI(model=\"gpt-4\", temperature=0)\n",
    "        chain = LLMChain(llm=llm, prompt=chat_template)\n",
    "\n",
    "    async def _arun(\n",
    "            self,\n",
    "            dataframe: DataFrameField,\n",
    "            query: str,\n",
    "            run_manager: Optional[AsyncCallbackManagerForToolRun] = None,\n",
    "    ) -> str:\n",
    "        raise NotImplementedError(\"streamlit_data_analysis does not support async\")\n",
    "\n",
    "    def as_tool(self) -> Tool:\n",
    "        return Tool.from_function(\n",
    "            func=self._run,\n",
    "            name=self.name,\n",
    "            description=self.description,\n",
    "            args_schema=self.args_schema,\n",
    "        )"
   ],
   "metadata": {
    "collapsed": false,
    "ExecuteTime": {
     "end_time": "2024-01-07T15:29:11.204305Z",
     "start_time": "2024-01-07T15:29:11.202305Z"
    }
   }
  },
  {
   "cell_type": "code",
   "execution_count": null,
   "outputs": [],
   "source": [],
   "metadata": {
    "collapsed": false
   }
  },
  {
   "cell_type": "code",
   "execution_count": null,
   "outputs": [],
   "source": [],
   "metadata": {
    "collapsed": false
   }
  },
  {
   "cell_type": "code",
   "execution_count": null,
   "outputs": [],
   "source": [
    "sda_tool = StreamlitDataAnalysisToolArguments(\n",
    "    dataframe=pd.DataFrame(),\n",
    "    query=\"\"\n",
    ")"
   ],
   "metadata": {
    "collapsed": false
   }
  },
  {
   "cell_type": "code",
   "execution_count": 2,
   "outputs": [],
   "source": [
    "import pandas as pd"
   ],
   "metadata": {
    "collapsed": false,
    "ExecuteTime": {
     "end_time": "2024-01-07T02:11:35.247136Z",
     "start_time": "2024-01-07T02:11:33.942840Z"
    }
   }
  },
  {
   "cell_type": "code",
   "execution_count": 3,
   "outputs": [],
   "source": [
    "df = pd.read_csv(\"../california_housing_train.csv\")"
   ],
   "metadata": {
    "collapsed": false,
    "ExecuteTime": {
     "end_time": "2024-01-07T02:11:46.363741Z",
     "start_time": "2024-01-07T02:11:46.334826Z"
    }
   }
  },
  {
   "cell_type": "code",
   "execution_count": null,
   "outputs": [],
   "source": [],
   "metadata": {
    "collapsed": false
   }
  }
 ],
 "metadata": {
  "kernelspec": {
   "display_name": "Python 3",
   "language": "python",
   "name": "python3"
  },
  "language_info": {
   "codemirror_mode": {
    "name": "ipython",
    "version": 2
   },
   "file_extension": ".py",
   "mimetype": "text/x-python",
   "name": "python",
   "nbconvert_exporter": "python",
   "pygments_lexer": "ipython2",
   "version": "2.7.6"
  }
 },
 "nbformat": 4,
 "nbformat_minor": 0
}
