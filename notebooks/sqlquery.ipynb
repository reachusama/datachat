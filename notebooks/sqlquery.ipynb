{
 "cells": [
  {
   "cell_type": "code",
   "execution_count": 1,
   "metadata": {
    "collapsed": true,
    "ExecuteTime": {
     "end_time": "2024-01-08T15:01:33.154881Z",
     "start_time": "2024-01-08T15:01:32.483361Z"
    }
   },
   "outputs": [],
   "source": [
    "import json\n",
    "\n",
    "from sqlquery import SQLQueryTool\n",
    "import pandas as pd"
   ]
  },
  {
   "cell_type": "code",
   "execution_count": 2,
   "outputs": [],
   "source": [
    "df = pd.read_csv(\"../california_housing_train.csv\")"
   ],
   "metadata": {
    "collapsed": false,
    "ExecuteTime": {
     "end_time": "2024-01-08T15:01:33.158490Z",
     "start_time": "2024-01-08T15:01:33.129553Z"
    }
   }
  },
  {
   "cell_type": "code",
   "execution_count": 3,
   "outputs": [],
   "source": [
    "tool = SQLQueryTool(dataframe=df)"
   ],
   "metadata": {
    "collapsed": false,
    "ExecuteTime": {
     "end_time": "2024-01-08T15:01:33.248943Z",
     "start_time": "2024-01-08T15:01:33.246654Z"
    }
   }
  },
  {
   "cell_type": "code",
   "execution_count": 4,
   "outputs": [],
   "source": [
    "res = tool.run({\n",
    "    \"dataframe\": df,\n",
    "    \"sql_query\": \"SELECT * FROM dataframe\"\n",
    "})"
   ],
   "metadata": {
    "collapsed": false,
    "ExecuteTime": {
     "end_time": "2024-01-08T15:01:33.854906Z",
     "start_time": "2024-01-08T15:01:33.687817Z"
    }
   }
  },
  {
   "cell_type": "code",
   "execution_count": 5,
   "outputs": [
    {
     "data": {
      "text/plain": "'[{\"longitude\":-114.31,\"latitude\":34.19,\"housing_median_age\":15.0,\"total_rooms\":5612.0,\"total_bedrooms\":1283.0,\"population\":1015.0,\"households\":472.0,\"median_income\":1.4936,\"median_house_value\":66900.0},{\"longitude\":-114.47,\"latitude\":34.4,\"housing_median_age\":19.0,\"total_rooms\":7650.0,\"total_bedrooms\":1901.0,\"population\":1129.0,\"households\":463.0,\"median_income\":1.82,\"median_house_value\":80100.0},{\"longitude\":-114.56,\"latitude\":33.69,\"housing_median_age\":17.0,\"total_rooms\":720.0,\"total_bedrooms\":174.0,\"population\":333.0,\"households\":117.0,\"median_income\":1.6509,\"median_house_value\":85700.0},{\"longitude\":-114.57,\"latitude\":33.64,\"housing_median_age\":14.0,\"total_rooms\":1501.0,\"total_bedrooms\":337.0,\"population\":515.0,\"households\":226.0,\"median_income\":3.1917,\"median_house_value\":73400.0},{\"longitude\":-114.57,\"latitude\":33.57,\"housing_median_age\":20.0,\"total_rooms\":1454.0,\"total_bedrooms\":326.0,\"population\":624.0,\"households\":262.0,\"median_income\":1.925,\"median_house_value\":65500.0},{\"longitude\":-114.58,\"latitude\":33.63,\"housing_median_age\":29.0,\"total_rooms\":1387.0,\"total_bedrooms\":236.0,\"population\":671.0,\"households\":239.0,\"median_income\":3.3438,\"median_house_value\":74000.0},{\"longitude\":-114.58,\"latitude\":33.61,\"housing_median_age\":25.0,\"total_rooms\":2907.0,\"total_bedrooms\":680.0,\"population\":1841.0,\"households\":633.0,\"median_income\":2.6768,\"median_house_value\":82400.0},{\"longitude\":-114.59,\"latitude\":34.83,\"housing_median_age\":41.0,\"total_rooms\":812.0,\"total_bedrooms\":168.0,\"population\":375.0,\"households\":158.0,\"median_income\":1.7083,\"median_house_value\":48500.0},{\"longitude\":-114.59,\"latitude\":33.61,\"housing_median_age\":34.0,\"total_rooms\":4789.0,\"total_bedrooms\":1175.0,\"population\":3134.0,\"households\":1056.0,\"median_income\":2.1782,\"median_house_value\":58400.0},{\"longitude\":-114.6,\"latitude\":34.83,\"housing_median_age\":46.0,\"total_rooms\":1497.0,\"total_bedrooms\":309.0,\"population\":787.0,\"households\":271.0,\"median_income\":2.1908,\"median_house_value\":48100.0},{\"longitude\":-114.6,\"latitude\":33.62,\"housing_median_age\":16.0,\"total_rooms\":3741.0,\"total_bedrooms\":801.0,\"population\":2434.0,\"households\":824.0,\"median_income\":2.6797,\"median_house_value\":86500.0},{\"longitude\":-114.6,\"latitude\":33.6,\"housing_median_age\":21.0,\"total_rooms\":1988.0,\"total_bedrooms\":483.0,\"population\":1182.0,\"households\":437.0,\"median_income\":1.625,\"median_house_value\":62000.0},{\"longitude\":-114.61,\"latitude\":34.84,\"housing_median_age\":48.0,\"total_rooms\":1291.0,\"total_bedrooms\":248.0,\"population\":580.0,\"households\":211.0,\"median_income\":2.1571,\"median_house_value\":48600.0},{\"longitude\":-114.61,\"latitude\":34.83,\"housing_median_age\":31.0,\"total_rooms\":2478.0,\"total_bedrooms\":464.0,\"population\":1346.0,\"households\":479.0,\"median_income\":3.212,\"median_house_value\":70400.0},{\"longitude\":-114.63,\"latitude\":32.76,\"housing_median_age\":15.0,\"total_rooms\":1448.0,\"total_bedrooms\":378.0,\"population\":949.0,\"households\":300.0,\"median_income\":0.8585,\"median_house_value\":45000.0}]'"
     },
     "execution_count": 5,
     "metadata": {},
     "output_type": "execute_result"
    }
   ],
   "source": [
    "res"
   ],
   "metadata": {
    "collapsed": false,
    "ExecuteTime": {
     "end_time": "2024-01-08T15:01:37.625898Z",
     "start_time": "2024-01-08T15:01:37.618959Z"
    }
   }
  },
  {
   "cell_type": "code",
   "execution_count": null,
   "outputs": [],
   "source": [],
   "metadata": {
    "collapsed": false
   }
  }
 ],
 "metadata": {
  "kernelspec": {
   "display_name": "Python 3",
   "language": "python",
   "name": "python3"
  },
  "language_info": {
   "codemirror_mode": {
    "name": "ipython",
    "version": 2
   },
   "file_extension": ".py",
   "mimetype": "text/x-python",
   "name": "python",
   "nbconvert_exporter": "python",
   "pygments_lexer": "ipython2",
   "version": "2.7.6"
  }
 },
 "nbformat": 4,
 "nbformat_minor": 0
}
