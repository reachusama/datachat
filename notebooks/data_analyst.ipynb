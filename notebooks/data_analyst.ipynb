{
 "cells": [
  {
   "cell_type": "code",
   "execution_count": null,
   "outputs": [],
   "source": [
    "\"\"\"\n",
    "Conduct Data Analysis using OpenAI + Streamlit\n",
    "\"\"\""
   ],
   "metadata": {
    "collapsed": false
   }
  },
  {
   "cell_type": "code",
   "execution_count": 8,
   "outputs": [
    {
     "data": {
      "text/plain": "True"
     },
     "execution_count": 8,
     "metadata": {},
     "output_type": "execute_result"
    }
   ],
   "source": [
    "from langchain.agents import AgentType, initialize_agent\n",
    "from langchain.chat_models import ChatOpenAI\n",
    "from langchain_core.prompts import ChatPromptTemplate\n",
    "from langchain.prompts import HumanMessagePromptTemplate, SystemMessagePromptTemplate\n",
    "from langchain.chains import LLMChain\n",
    "from langchain_core.messages import SystemMessage\n",
    "from dotenv import load_dotenv\n",
    "\n",
    "load_dotenv()"
   ],
   "metadata": {
    "collapsed": false,
    "ExecuteTime": {
     "end_time": "2024-01-07T13:49:16.953361Z",
     "start_time": "2024-01-07T13:49:16.881246Z"
    }
   }
  },
  {
   "cell_type": "code",
   "execution_count": 113,
   "outputs": [],
   "source": [
    "chat_template = ChatPromptTemplate.from_messages(\n",
    "    [\n",
    "        SystemMessagePromptTemplate.from_template(\n",
    "            template_format=\"jinja2\",\n",
    "            template=\"\"\"Your are a data analyst. Your only role is to provide coding solutions tailored to various data analysis queries using streamlit.io. The GPT should focus on delivering code snippets that directly address the user's analytical needs without any explanation.\n",
    "\n",
    "The programming language should be Python and framework should be Streamlit. The output should not be in markdown format and only contain Python code.\n",
    "\n",
    "For your convenience, the following libraries are pre-imported in this environment:\n",
    "```\n",
    "import streamlit as st\n",
    "import pandas as pd\n",
    "import numpy as np\n",
    "```\n",
    "\n",
    "The dataset has been already imported:\n",
    "```python\n",
    "df = pd.read_csv(\"path_to_your_csv_file.csv\")\n",
    "```\n",
    "\n",
    "Dataset Information:{{dataset_info}}\"\"\"\n",
    "        ),\n",
    "        HumanMessagePromptTemplate.from_template(\"{query}\"),\n",
    "    ]\n",
    ")"
   ],
   "metadata": {
    "collapsed": false,
    "ExecuteTime": {
     "end_time": "2024-01-07T15:04:35.300140Z",
     "start_time": "2024-01-07T15:04:35.240202Z"
    }
   }
  },
  {
   "cell_type": "code",
   "execution_count": 114,
   "outputs": [],
   "source": [
    "import pandas as pd\n",
    "import numpy as np\n",
    "# import matplotlib.pyplot as plt"
   ],
   "metadata": {
    "collapsed": false,
    "ExecuteTime": {
     "end_time": "2024-01-07T15:04:35.713040Z",
     "start_time": "2024-01-07T15:04:35.705832Z"
    }
   }
  },
  {
   "cell_type": "code",
   "execution_count": 115,
   "outputs": [],
   "source": [
    "llm = ChatOpenAI(model=\"gpt-4\", temperature=0)"
   ],
   "metadata": {
    "collapsed": false,
    "ExecuteTime": {
     "end_time": "2024-01-07T15:04:36.096081Z",
     "start_time": "2024-01-07T15:04:36.054342Z"
    }
   }
  },
  {
   "cell_type": "code",
   "execution_count": 116,
   "outputs": [],
   "source": [
    "df = pd.read_csv(\"../california_housing_train.csv\")"
   ],
   "metadata": {
    "collapsed": false,
    "ExecuteTime": {
     "end_time": "2024-01-07T15:04:36.620834Z",
     "start_time": "2024-01-07T15:04:36.474679Z"
    }
   }
  },
  {
   "cell_type": "code",
   "execution_count": 118,
   "outputs": [],
   "source": [
    "chain = LLMChain(llm=llm, prompt=chat_template)"
   ],
   "metadata": {
    "collapsed": false,
    "ExecuteTime": {
     "end_time": "2024-01-07T15:04:37.448482Z",
     "start_time": "2024-01-07T15:04:37.435935Z"
    }
   }
  },
  {
   "cell_type": "code",
   "execution_count": 119,
   "outputs": [],
   "source": [
    "def dataset_info():\n",
    "    import io\n",
    "    buf = io.StringIO()\n",
    "    df.info(buf=buf)\n",
    "    s = buf.getvalue()\n",
    "    return s"
   ],
   "metadata": {
    "collapsed": false,
    "ExecuteTime": {
     "end_time": "2024-01-07T15:04:37.767895Z",
     "start_time": "2024-01-07T15:04:37.761887Z"
    }
   }
  },
  {
   "cell_type": "code",
   "execution_count": 125,
   "outputs": [
    {
     "name": "stdout",
     "output_type": "stream",
     "text": [
      "<class 'pandas.core.frame.DataFrame'>\n",
      "RangeIndex: 17000 entries, 0 to 16999\n",
      "Data columns (total 9 columns):\n",
      " #   Column              Non-Null Count  Dtype  \n",
      "---  ------              --------------  -----  \n",
      " 0   longitude           17000 non-null  float64\n",
      " 1   latitude            17000 non-null  float64\n",
      " 2   housing_median_age  17000 non-null  float64\n",
      " 3   total_rooms         17000 non-null  float64\n",
      " 4   total_bedrooms      17000 non-null  float64\n",
      " 5   population          17000 non-null  float64\n",
      " 6   households          17000 non-null  float64\n",
      " 7   median_income       17000 non-null  float64\n",
      " 8   median_house_value  17000 non-null  float64\n",
      "dtypes: float64(9)\n",
      "memory usage: 1.2 MB\n"
     ]
    }
   ],
   "source": [
    "df.info()"
   ],
   "metadata": {
    "collapsed": false,
    "ExecuteTime": {
     "end_time": "2024-01-07T15:08:24.199715Z",
     "start_time": "2024-01-07T15:08:24.175036Z"
    }
   }
  },
  {
   "cell_type": "code",
   "execution_count": 120,
   "outputs": [],
   "source": [
    "import subprocess\n",
    "import sys\n",
    "def install_package(package_name: str = \"pandas\"):\n",
    "    subprocess.check_call([sys.executable, \"-m\", \"pip\", \"install\", package_name])"
   ],
   "metadata": {
    "collapsed": false,
    "ExecuteTime": {
     "end_time": "2024-01-07T15:04:38.154604Z",
     "start_time": "2024-01-07T15:04:38.146697Z"
    }
   }
  },
  {
   "cell_type": "code",
   "execution_count": 121,
   "outputs": [
    {
     "name": "stdout",
     "output_type": "stream",
     "text": [
      "Requirement already satisfied: scikit-learn in /Users/reachusama/anaconda3/envs/datachat/lib/python3.10/site-packages (1.3.2)\n",
      "Requirement already satisfied: numpy<2.0,>=1.17.3 in /Users/reachusama/anaconda3/envs/datachat/lib/python3.10/site-packages (from scikit-learn) (1.26.2)\n",
      "Requirement already satisfied: scipy>=1.5.0 in /Users/reachusama/anaconda3/envs/datachat/lib/python3.10/site-packages (from scikit-learn) (1.11.4)\n",
      "Requirement already satisfied: joblib>=1.1.1 in /Users/reachusama/anaconda3/envs/datachat/lib/python3.10/site-packages (from scikit-learn) (1.3.2)\n",
      "Requirement already satisfied: threadpoolctl>=2.0.0 in /Users/reachusama/anaconda3/envs/datachat/lib/python3.10/site-packages (from scikit-learn) (3.2.0)\n"
     ]
    }
   ],
   "source": [
    "# Example of installing the 'requests' package\n",
    "install_package('scikit-learn')"
   ],
   "metadata": {
    "collapsed": false,
    "ExecuteTime": {
     "end_time": "2024-01-07T15:04:40.137278Z",
     "start_time": "2024-01-07T15:04:38.800172Z"
    }
   }
  },
  {
   "cell_type": "code",
   "execution_count": 122,
   "outputs": [],
   "source": [
    "params = {\"dataset_info\": dataset_info(), \"query\": \"How can I plot population against long, latitude ?\"}"
   ],
   "metadata": {
    "collapsed": false,
    "ExecuteTime": {
     "end_time": "2024-01-07T15:04:40.143401Z",
     "start_time": "2024-01-07T15:04:40.138562Z"
    }
   }
  },
  {
   "cell_type": "code",
   "execution_count": 123,
   "outputs": [],
   "source": [
    "ans = chain.run(params)"
   ],
   "metadata": {
    "collapsed": false,
    "ExecuteTime": {
     "end_time": "2024-01-07T15:04:44.385329Z",
     "start_time": "2024-01-07T15:04:40.374072Z"
    }
   }
  },
  {
   "cell_type": "code",
   "execution_count": 124,
   "outputs": [
    {
     "name": "stdout",
     "output_type": "stream",
     "text": [
      "\n",
      "import matplotlib.pyplot as plt\n",
      "\n",
      "st.title('Population Distribution')\n",
      "\n",
      "# Create a scatter plot\n",
      "fig, ax = plt.subplots()\n",
      "scatter = ax.scatter(df['longitude'], df['latitude'], c=df['population'], cmap='viridis')\n",
      "\n",
      "# Add a colorbar\n",
      "plt.colorbar(scatter)\n",
      "\n",
      "# Set the title and labels\n",
      "plt.title('Population Distribution')\n",
      "plt.xlabel('Longitude')\n",
      "plt.ylabel('Latitude')\n",
      "\n",
      "# Show the plot\n",
      "st.pyplot(fig)\n",
      "\n"
     ]
    }
   ],
   "source": [
    "print(ans.replace(\"`\", \"\").replace(\"python\", \"\"))"
   ],
   "metadata": {
    "collapsed": false,
    "ExecuteTime": {
     "end_time": "2024-01-07T15:04:44.389943Z",
     "start_time": "2024-01-07T15:04:44.385774Z"
    }
   }
  },
  {
   "cell_type": "code",
   "execution_count": null,
   "outputs": [],
   "source": [
    "\"\"\"\n",
    "To utilize a package that isn't already imported in your script, you can easily install it using the `install_package` function. Replace `\"your_package_name_here\"` with the name of the package you wish to use.\n",
    "\n",
    "```python\n",
    "install_package(package_name: str = \"your_package_name_here\")\n",
    "```\n",
    "\"\"\""
   ],
   "metadata": {
    "collapsed": false
   }
  },
  {
   "cell_type": "markdown",
   "source": [
    "## Detect the packages needed to be installed, and install them"
   ],
   "metadata": {
    "collapsed": false
   }
  },
  {
   "cell_type": "code",
   "execution_count": null,
   "outputs": [],
   "source": [
    "\"\"\"\n",
    "To utilize a package that isn't already imported in your script, you can easily install it using the `install_package` function. Replace `\"your_package_name_here\"` with the name of the package you wish to use.\n",
    "\n",
    "```python\n",
    "install_package(package_name: str = \"your_package_name_here\")\n",
    "```\n",
    "\"\"\""
   ],
   "metadata": {
    "collapsed": false
   }
  },
  {
   "cell_type": "code",
   "execution_count": null,
   "outputs": [],
   "source": [
    "# LLMSDAChain"
   ],
   "metadata": {
    "collapsed": false
   }
  }
 ],
 "metadata": {
  "kernelspec": {
   "display_name": "Python 3",
   "language": "python",
   "name": "python3"
  },
  "language_info": {
   "codemirror_mode": {
    "name": "ipython",
    "version": 2
   },
   "file_extension": ".py",
   "mimetype": "text/x-python",
   "name": "python",
   "nbconvert_exporter": "python",
   "pygments_lexer": "ipython2",
   "version": "2.7.6"
  }
 },
 "nbformat": 4,
 "nbformat_minor": 0
}
