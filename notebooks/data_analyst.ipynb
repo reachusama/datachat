{
 "cells": [
  {
   "cell_type": "code",
   "execution_count": null,
   "outputs": [],
   "source": [
    "\"\"\"\n",
    "Conduct Data Analysis using OpenAI + Streamlit\n",
    "\"\"\""
   ],
   "metadata": {
    "collapsed": false
   }
  },
  {
   "cell_type": "code",
   "execution_count": 8,
   "outputs": [
    {
     "data": {
      "text/plain": "True"
     },
     "execution_count": 8,
     "metadata": {},
     "output_type": "execute_result"
    }
   ],
   "source": [
    "from langchain.agents import AgentType, initialize_agent\n",
    "from langchain.chat_models import ChatOpenAI\n",
    "from langchain_core.prompts import ChatPromptTemplate\n",
    "from langchain.prompts import HumanMessagePromptTemplate, SystemMessagePromptTemplate\n",
    "from langchain.chains import LLMChain\n",
    "from langchain_core.messages import SystemMessage\n",
    "from dotenv import load_dotenv\n",
    "\n",
    "load_dotenv()"
   ],
   "metadata": {
    "collapsed": false,
    "ExecuteTime": {
     "end_time": "2024-01-07T13:49:16.953361Z",
     "start_time": "2024-01-07T13:49:16.881246Z"
    }
   }
  },
  {
   "cell_type": "code",
   "execution_count": 27,
   "outputs": [],
   "source": [
    "chat_template = ChatPromptTemplate.from_messages(\n",
    "    [\n",
    "        SystemMessagePromptTemplate.from_template(\n",
    "            template_format=\"jinja2\",\n",
    "            template=\"\"\"Your are a data analyst. Your only role is to provide coding solutions tailored to various data analysis queries using streamlit.io. The GPT should focus on delivering code snippets that directly address the user's analytical needs without any explanation.\n",
    "\n",
    "The programming language should be Python and framework should be Streamlit. The output should not be in markdown format and only contain Python code. Consider that streamlit and pandas have been imported. Any other libraries should be installed first.\n",
    "\n",
    "Dataset Information:{{dataset_info}}\"\"\"\n",
    "        ),\n",
    "        HumanMessagePromptTemplate.from_template(\"{query}\"),\n",
    "    ]\n",
    ")"
   ],
   "metadata": {
    "collapsed": false,
    "ExecuteTime": {
     "end_time": "2024-01-07T13:54:03.031903Z",
     "start_time": "2024-01-07T13:54:02.978759Z"
    }
   }
  },
  {
   "cell_type": "code",
   "execution_count": 28,
   "outputs": [],
   "source": [
    "import pandas as pd"
   ],
   "metadata": {
    "collapsed": false,
    "ExecuteTime": {
     "end_time": "2024-01-07T13:54:03.775732Z",
     "start_time": "2024-01-07T13:54:03.771887Z"
    }
   }
  },
  {
   "cell_type": "code",
   "execution_count": 29,
   "outputs": [],
   "source": [
    "llm = ChatOpenAI(model=\"gpt-4\", temperature=0)"
   ],
   "metadata": {
    "collapsed": false,
    "ExecuteTime": {
     "end_time": "2024-01-07T13:54:04.155750Z",
     "start_time": "2024-01-07T13:54:04.116475Z"
    }
   }
  },
  {
   "cell_type": "code",
   "execution_count": 30,
   "outputs": [],
   "source": [
    "df = pd.read_csv(\"../california_housing_train.csv\")"
   ],
   "metadata": {
    "collapsed": false,
    "ExecuteTime": {
     "end_time": "2024-01-07T13:54:04.544692Z",
     "start_time": "2024-01-07T13:54:04.535121Z"
    }
   }
  },
  {
   "cell_type": "code",
   "execution_count": 40,
   "metadata": {
    "collapsed": true,
    "ExecuteTime": {
     "end_time": "2024-01-07T13:57:11.342086Z",
     "start_time": "2024-01-07T13:57:11.310678Z"
    }
   },
   "outputs": [
    {
     "data": {
      "text/plain": "'\\n- Conditional - Does it need code + text, only code, only text ?\\n- Pass Dataset Info\\n- Ask for a query\\n- Get code, install all packages that are needed, or use the tools provided to install packages\\n- Get the relevant streamlit docs context to the model.\\n- Print the code using Streamlit.\\n\\n'"
     },
     "execution_count": 40,
     "metadata": {},
     "output_type": "execute_result"
    }
   ],
   "source": [
    "\"\"\"\n",
    "- Conditional - Does it need code + text, only code, only text ?\n",
    "- Pass Dataset Info\n",
    "- Ask for a query\n",
    "- Get code, install all packages that are needed, or use the tools provided to install packages\n",
    "- Get the relevant streamlit docs context to the model.\n",
    "- Print the code using Streamlit.\n",
    "\"\"\""
   ]
  },
  {
   "cell_type": "code",
   "execution_count": 32,
   "outputs": [],
   "source": [
    "chain = LLMChain(llm=llm, prompt=chat_template)"
   ],
   "metadata": {
    "collapsed": false,
    "ExecuteTime": {
     "end_time": "2024-01-07T13:54:05.440141Z",
     "start_time": "2024-01-07T13:54:05.433368Z"
    }
   }
  },
  {
   "cell_type": "code",
   "execution_count": 33,
   "outputs": [],
   "source": [
    "def dataset_info():\n",
    "    import io\n",
    "    buf = io.StringIO()\n",
    "    df.info(buf=buf)\n",
    "    s = buf.getvalue()\n",
    "    return s"
   ],
   "metadata": {
    "collapsed": false,
    "ExecuteTime": {
     "end_time": "2024-01-07T13:54:05.997116Z",
     "start_time": "2024-01-07T13:54:05.990929Z"
    }
   }
  },
  {
   "cell_type": "code",
   "execution_count": 42,
   "outputs": [],
   "source": [
    "import subprocess\n",
    "import sys\n",
    "def install_package(package_name):\n",
    "    subprocess.check_call([sys.executable, \"-m\", \"pip\", \"install\", package_name])"
   ],
   "metadata": {
    "collapsed": false,
    "ExecuteTime": {
     "end_time": "2024-01-07T14:02:59.414470Z",
     "start_time": "2024-01-07T14:02:59.384435Z"
    }
   }
  },
  {
   "cell_type": "code",
   "execution_count": 43,
   "outputs": [
    {
     "name": "stdout",
     "output_type": "stream",
     "text": [
      "Collecting scikit-learn\n",
      "  Using cached scikit_learn-1.3.2-cp310-cp310-macosx_12_0_arm64.whl.metadata (11 kB)\n",
      "Requirement already satisfied: numpy<2.0,>=1.17.3 in /Users/reachusama/anaconda3/envs/datachat/lib/python3.10/site-packages (from scikit-learn) (1.26.2)\n",
      "Collecting scipy>=1.5.0 (from scikit-learn)\n",
      "  Using cached scipy-1.11.4-cp310-cp310-macosx_12_0_arm64.whl.metadata (112 kB)\n",
      "Collecting joblib>=1.1.1 (from scikit-learn)\n",
      "  Using cached joblib-1.3.2-py3-none-any.whl.metadata (5.4 kB)\n",
      "Collecting threadpoolctl>=2.0.0 (from scikit-learn)\n",
      "  Using cached threadpoolctl-3.2.0-py3-none-any.whl.metadata (10.0 kB)\n",
      "Using cached scikit_learn-1.3.2-cp310-cp310-macosx_12_0_arm64.whl (9.5 MB)\n",
      "Using cached joblib-1.3.2-py3-none-any.whl (302 kB)\n",
      "Using cached scipy-1.11.4-cp310-cp310-macosx_12_0_arm64.whl (29.8 MB)\n",
      "Using cached threadpoolctl-3.2.0-py3-none-any.whl (15 kB)\n",
      "Installing collected packages: threadpoolctl, scipy, joblib, scikit-learn\n",
      "Successfully installed joblib-1.3.2 scikit-learn-1.3.2 scipy-1.11.4 threadpoolctl-3.2.0\n"
     ]
    }
   ],
   "source": [
    "# Example of installing the 'requests' package\n",
    "install_package('scikit-learn')"
   ],
   "metadata": {
    "collapsed": false,
    "ExecuteTime": {
     "end_time": "2024-01-07T14:03:32.716800Z",
     "start_time": "2024-01-07T14:03:27.827807Z"
    }
   }
  },
  {
   "cell_type": "code",
   "execution_count": 37,
   "outputs": [],
   "source": [
    "params = {\"dataset_info\": dataset_info(), \"query\": \"How can I plot population against long, latitude ?\"}"
   ],
   "metadata": {
    "collapsed": false,
    "ExecuteTime": {
     "end_time": "2024-01-07T13:54:29.102977Z",
     "start_time": "2024-01-07T13:54:29.033144Z"
    }
   }
  },
  {
   "cell_type": "code",
   "execution_count": 38,
   "outputs": [],
   "source": [
    "ans = chain.run(params)"
   ],
   "metadata": {
    "collapsed": false,
    "ExecuteTime": {
     "end_time": "2024-01-07T13:54:40.922947Z",
     "start_time": "2024-01-07T13:54:29.331725Z"
    }
   }
  },
  {
   "cell_type": "code",
   "execution_count": 39,
   "outputs": [
    {
     "name": "stdout",
     "output_type": "stream",
     "text": [
      "\n",
      "import streamlit as st\n",
      "import pandas as pd\n",
      "import pydeck as pdk\n",
      "\n",
      "# Assuming that 'df' is your DataFrame\n",
      "# and 'longitude', 'latitude' and 'population' are columns in 'df'\n",
      "\n",
      "st.pydeck_chart(pdk.Deck(\n",
      "    map_style='mapbox://styles/mapbox/light-v9',\n",
      "    initial_view_state=pdk.ViewState(\n",
      "        latitude=df['latitude'].mean(),\n",
      "        longitude=df['longitude'].mean(),\n",
      "        zoom=11,\n",
      "        pitch=50,\n",
      "    ),\n",
      "    layers=[\n",
      "        pdk.Layer(\n",
      "            'HexagonLayer',\n",
      "            data=df,\n",
      "            get_position='[longitude, latitude]',\n",
      "            auto_highlight=True,\n",
      "            elevation_scale=50,\n",
      "            pickable=True,\n",
      "            elevation_range=[0, 3000],\n",
      "            extruded=True,         \n",
      "            get_fill_color='[200, 30, 0, 160]',\n",
      "            get_radius=\"population\",\n",
      "        ),\n",
      "    ],\n",
      "))\n",
      "\n"
     ]
    }
   ],
   "source": [
    "print(ans.replace(\"`\", \"\").replace(\"python\", \"\"))"
   ],
   "metadata": {
    "collapsed": false,
    "ExecuteTime": {
     "end_time": "2024-01-07T13:54:41.698245Z",
     "start_time": "2024-01-07T13:54:41.692507Z"
    }
   }
  },
  {
   "cell_type": "code",
   "execution_count": null,
   "outputs": [],
   "source": [],
   "metadata": {
    "collapsed": false
   }
  }
 ],
 "metadata": {
  "kernelspec": {
   "display_name": "Python 3",
   "language": "python",
   "name": "python3"
  },
  "language_info": {
   "codemirror_mode": {
    "name": "ipython",
    "version": 2
   },
   "file_extension": ".py",
   "mimetype": "text/x-python",
   "name": "python",
   "nbconvert_exporter": "python",
   "pygments_lexer": "ipython2",
   "version": "2.7.6"
  }
 },
 "nbformat": 4,
 "nbformat_minor": 0
}
