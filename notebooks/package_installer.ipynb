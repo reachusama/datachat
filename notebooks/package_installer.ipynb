{
 "cells": [
  {
   "cell_type": "markdown",
   "source": [
    "# Package Installer with Streamlit\n",
    "\n",
    "Streamlit turns data scripts into shareable web apps in minutes.\n",
    "\n",
    "We can use LLMs to create data scripts utilising streamlit but there is one issues to this problem.\n",
    "\n",
    "Often times, LLMs use packages that are not installed and they require manually installing them. This is where package comes in.\n",
    "\n",
    "Let' say that we want to convert natural language data queries into streamlit data scripts.\n"
   ],
   "metadata": {
    "collapsed": false
   }
  },
  {
   "cell_type": "code",
   "execution_count": 34,
   "outputs": [
    {
     "data": {
      "text/plain": "True"
     },
     "execution_count": 34,
     "metadata": {},
     "output_type": "execute_result"
    }
   ],
   "source": [
    "from langchain.agents import AgentType, initialize_agent\n",
    "from langchain.chat_models import ChatOpenAI\n",
    "from langchain_core.prompts import ChatPromptTemplate\n",
    "from langchain.prompts import HumanMessagePromptTemplate, SystemMessagePromptTemplate, MessagesPlaceholder\n",
    "from langchain.chains import LLMChain\n",
    "from langchain_core.messages import SystemMessage\n",
    "from dotenv import load_dotenv\n",
    "import pandas as pd\n",
    "import io\n",
    "\n",
    "load_dotenv()"
   ],
   "metadata": {
    "collapsed": false,
    "ExecuteTime": {
     "end_time": "2024-01-07T22:20:49.458168Z",
     "start_time": "2024-01-07T22:20:49.416980Z"
    }
   }
  },
  {
   "cell_type": "code",
   "execution_count": 270,
   "outputs": [],
   "source": [
    "# prompt = ChatPromptTemplate.from_messages(\n",
    "#     [\n",
    "#         SystemMessagePromptTemplate.from_template(\n",
    "#             template_format=\"jinja2\",\n",
    "#             template=\"\"\"You are a data analyst. Your role is to provide a code snippet in Python tailored to data analysis query for use in Streamlit and install any imported packages using the provided tools.\n",
    "#\n",
    "# The following libraries are pre-imported and installed in the environment:\n",
    "# ```\n",
    "# import streamlit as st\n",
    "# import pandas as pd\n",
    "# import numpy as np\n",
    "# ```\n",
    "#\n",
    "# The dataset has been already imported:\n",
    "# ```python\n",
    "# df = pd.read_csv(\"path_to_your_csv_file.csv\")\n",
    "# ```\n",
    "#\n",
    "# Dataset Information:{{dataset_info}}\"\"\"\n",
    "#         ),\n",
    "#         HumanMessagePromptTemplate.from_template(\"{query}\"),\n",
    "#         MessagesPlaceholder(variable_name=\"agent_scratchpad\")\n",
    "#     ]\n",
    "# )"
   ],
   "metadata": {
    "collapsed": false,
    "ExecuteTime": {
     "end_time": "2024-01-07T23:42:00.696460Z",
     "start_time": "2024-01-07T23:42:00.683369Z"
    }
   }
  },
  {
   "cell_type": "code",
   "execution_count": 315,
   "outputs": [],
   "source": [
    "prompt = ChatPromptTemplate.from_messages(\n",
    "    [\n",
    "        SystemMessagePromptTemplate.from_template(\n",
    "            template_format=\"jinja2\",\n",
    "            template=\"\"\"You are a data analyst. Your role is to provide a code snippet in Python tailored to data analysis query for use in Streamlit and install any imported packages using the provided tools. Your output will only contain Python code snippet without any text explanation.\n",
    "Dataset Information:{{dataset_info}}\n",
    "Variable Name for DataFrame: df\n",
    "Libraries pre-imported include: pandas as pd, streamlit as st\"\"\"\n",
    "        ),\n",
    "        HumanMessagePromptTemplate.from_template(\"{query}\"),\n",
    "        MessagesPlaceholder(variable_name=\"agent_scratchpad\")\n",
    "    ]\n",
    ")"
   ],
   "metadata": {
    "collapsed": false,
    "ExecuteTime": {
     "end_time": "2024-01-07T23:46:46.225752Z",
     "start_time": "2024-01-07T23:46:46.183406Z"
    }
   }
  },
  {
   "cell_type": "code",
   "execution_count": 316,
   "outputs": [],
   "source": [
    "# prompt = ChatPromptTemplate.from_messages(\n",
    "#     [\n",
    "#         SystemMessagePromptTemplate.from_template(\n",
    "#             template_format=\"jinja2\",\n",
    "#             template=\"\"\"The GPT is designed to function as a data analyst, specializing in Python. Its primary role is to provide code snippets that are specifically tailored for use in Streamlit, and install any imported packages using the provided tools.\n",
    "#\n",
    "# In the environment, the following libraries are pre-installed and ready to use:\n",
    "# ```python\n",
    "# import streamlit as st\n",
    "# import pandas as pd\n",
    "# import numpy as np\n",
    "# ```\n",
    "#\n",
    "# The dataset has been already imported, as below:\n",
    "# ```python\n",
    "# df = pd.read_csv(\"path_to_your_csv_file.csv\")\n",
    "# ```\n",
    "#\n",
    "# Dataset Information:{{dataset_info}}\"\"\"\n",
    "#         ),\n",
    "#         HumanMessagePromptTemplate.from_template(\"{query}\"),\n",
    "#         MessagesPlaceholder(variable_name=\"agent_scratchpad\")\n",
    "#     ]\n",
    "# )"
   ],
   "metadata": {
    "collapsed": false,
    "ExecuteTime": {
     "end_time": "2024-01-07T23:46:46.873693Z",
     "start_time": "2024-01-07T23:46:46.870701Z"
    }
   }
  },
  {
   "cell_type": "code",
   "execution_count": 317,
   "outputs": [],
   "source": [
    "import subprocess\n",
    "import sys\n",
    "from typing import List, Optional, Type, Union\n",
    "\n",
    "from langchain_core.callbacks import (\n",
    "    AsyncCallbackManagerForToolRun,\n",
    "    CallbackManagerForToolRun,\n",
    ")\n",
    "from langchain_core.pydantic_v1 import BaseModel, Field\n",
    "from langchain_core.tools import BaseTool, Tool\n",
    "\n",
    "\n",
    "class PackageInstallInput(BaseModel):\n",
    "    \"\"\"Arguments for the PackageInstallTool.\"\"\"\n",
    "\n",
    "    package_names: Union[str, List[str]] = Field(\n",
    "        ...,\n",
    "        description=\"List of package name(s) to install\",\n",
    "        examples=[\"pandas\", [\"pandas\", \"numpy\"]],\n",
    "    )\n",
    "\n",
    "\n",
    "class PackageInstallTool(BaseTool):\n",
    "    \"\"\"Tool that installs Python packages in runtime.\"\"\"\n",
    "\n",
    "    name: str = \"package_install\"\n",
    "    args_schema: Type[BaseModel] = PackageInstallInput\n",
    "    description: str = \"Install Python packages dynamically during runtime as they are imported\"\n",
    "\n",
    "    def _run(\n",
    "            self,\n",
    "            package_names: Union[str, List[str]],\n",
    "            run_manager: Optional[CallbackManagerForToolRun] = None,\n",
    "    ) -> bool:\n",
    "        try:\n",
    "            if isinstance(package_names, str):\n",
    "                package_names = [package_names]\n",
    "            subprocess.check_call(\n",
    "                [sys.executable, \"-m\", \"pip\", \"install\", *package_names]\n",
    "            )\n",
    "            print(f\"Packages successfully installed: {', '.join(package_names)}.\")\n",
    "            return True\n",
    "        except Exception as e:\n",
    "            print(\"Error: \" + str(e))\n",
    "            return False\n",
    "\n",
    "    async def _arun(\n",
    "            self,\n",
    "            package_names: List[str],\n",
    "            run_manager: Optional[AsyncCallbackManagerForToolRun] = None,\n",
    "    ) -> str:\n",
    "        raise NotImplementedError(f\"{self.name} does not support async\")\n",
    "\n",
    "    def as_tool(self) -> Tool:\n",
    "        return Tool.from_function(\n",
    "            func=self._run,\n",
    "            name=self.name,\n",
    "            description=self.description,\n",
    "            args_schema=self.args_schema,\n",
    "        )"
   ],
   "metadata": {
    "collapsed": false,
    "ExecuteTime": {
     "end_time": "2024-01-07T23:46:47.279490Z",
     "start_time": "2024-01-07T23:46:47.273228Z"
    }
   }
  },
  {
   "cell_type": "code",
   "execution_count": 318,
   "outputs": [],
   "source": [
    "# prompt = ChatPromptTemplate.from_messages(\n",
    "#     [\n",
    "#         SystemMessagePromptTemplate.from_template(\n",
    "#             template_format=\"jinja2\",\n",
    "#             template=\"\"\"Your are a data analyst. Your role is to provide code snippets in Python tailored to various data analysis queries using streamlit.io, and install any imported packages using the provided tools.\n",
    "#\n",
    "# Dataset Information:{{dataset_info}}\"\"\"\n",
    "#         ),\n",
    "#         HumanMessagePromptTemplate.from_template(\"{query}\"),\n",
    "#         MessagesPlaceholder(variable_name=\"agent_scratchpad\")\n",
    "#     ]\n",
    "# )"
   ],
   "metadata": {
    "collapsed": false,
    "ExecuteTime": {
     "end_time": "2024-01-07T23:46:47.584082Z",
     "start_time": "2024-01-07T23:46:47.577691Z"
    }
   }
  },
  {
   "cell_type": "code",
   "execution_count": 319,
   "outputs": [],
   "source": [
    "llm = ChatOpenAI(model=\"gpt-4-1106-preview\", temperature=0)"
   ],
   "metadata": {
    "collapsed": false,
    "ExecuteTime": {
     "end_time": "2024-01-07T23:46:47.885866Z",
     "start_time": "2024-01-07T23:46:47.840578Z"
    }
   }
  },
  {
   "cell_type": "code",
   "execution_count": 320,
   "outputs": [],
   "source": [
    "df = pd.read_csv(\"../california_housing_train.csv\")"
   ],
   "metadata": {
    "collapsed": false,
    "ExecuteTime": {
     "end_time": "2024-01-07T23:46:48.261324Z",
     "start_time": "2024-01-07T23:46:48.246179Z"
    }
   }
  },
  {
   "cell_type": "code",
   "execution_count": 321,
   "outputs": [],
   "source": [
    "def dataset_info():\n",
    "    buf = io.StringIO()\n",
    "    df.info(buf=buf)\n",
    "    s = buf.getvalue()\n",
    "    return s"
   ],
   "metadata": {
    "collapsed": false,
    "ExecuteTime": {
     "end_time": "2024-01-07T23:46:48.599476Z",
     "start_time": "2024-01-07T23:46:48.596044Z"
    }
   }
  },
  {
   "cell_type": "code",
   "execution_count": 322,
   "outputs": [],
   "source": [
    "tools = [PackageInstallTool().as_tool()]"
   ],
   "metadata": {
    "collapsed": false,
    "ExecuteTime": {
     "end_time": "2024-01-07T23:46:49.141783Z",
     "start_time": "2024-01-07T23:46:49.129432Z"
    }
   }
  },
  {
   "cell_type": "code",
   "execution_count": 323,
   "outputs": [],
   "source": [
    "from langchain.agents import AgentExecutor, create_openai_functions_agent\n",
    "agent = create_openai_functions_agent(llm, tools, prompt)"
   ],
   "metadata": {
    "collapsed": false,
    "ExecuteTime": {
     "end_time": "2024-01-07T23:46:49.745470Z",
     "start_time": "2024-01-07T23:46:49.738144Z"
    }
   }
  },
  {
   "cell_type": "code",
   "execution_count": 324,
   "outputs": [],
   "source": [
    "# from langchain_community.tools.convert_to_openai import format_tool_to_openai_function\n",
    "# llm_with_tools = llm.bind(functions=[format_tool_to_openai_function(t) for t in tools])"
   ],
   "metadata": {
    "collapsed": false,
    "ExecuteTime": {
     "end_time": "2024-01-07T23:46:50.050663Z",
     "start_time": "2024-01-07T23:46:50.047083Z"
    }
   }
  },
  {
   "cell_type": "code",
   "execution_count": 325,
   "outputs": [],
   "source": [
    "# def function(x):\n",
    "#     print(x)\n",
    "#     return format_to_openai_function_messages(x[\"intermediate_steps\"])"
   ],
   "metadata": {
    "collapsed": false,
    "ExecuteTime": {
     "end_time": "2024-01-07T23:46:50.310268Z",
     "start_time": "2024-01-07T23:46:50.304909Z"
    }
   }
  },
  {
   "cell_type": "code",
   "execution_count": 326,
   "outputs": [],
   "source": [
    "# from langchain.agents.format_scratchpad import format_to_openai_function_messages\n",
    "# from langchain.agents.output_parsers import OpenAIFunctionsAgentOutputParser\n",
    "#\n",
    "# agent = (\n",
    "#         {\n",
    "#             \"dataset_info\": lambda x: x[\"dataset_info\"],\n",
    "#             \"query\": lambda x: x[\"query\"],\n",
    "#             \"agent_scratchpad\": lambda x: function(x),\n",
    "#         }\n",
    "#         | prompt\n",
    "#         | llm_with_tools\n",
    "#         | OpenAIFunctionsAgentOutputParser()\n",
    "# )"
   ],
   "metadata": {
    "collapsed": false,
    "ExecuteTime": {
     "end_time": "2024-01-07T23:46:50.664110Z",
     "start_time": "2024-01-07T23:46:50.661719Z"
    }
   }
  },
  {
   "cell_type": "code",
   "execution_count": 327,
   "outputs": [],
   "source": [
    "from langchain.agents import AgentExecutor\n",
    "\n",
    "agent_executor = AgentExecutor(\n",
    "    agent=agent,\n",
    "    tools=tools,\n",
    "    verbose=True,\n",
    "    return_intermediate_steps=True\n",
    ")"
   ],
   "metadata": {
    "collapsed": false,
    "ExecuteTime": {
     "end_time": "2024-01-07T23:46:51.077015Z",
     "start_time": "2024-01-07T23:46:51.068255Z"
    }
   }
  },
  {
   "cell_type": "code",
   "execution_count": 328,
   "outputs": [],
   "source": [
    "params = {\n",
    "    \"dataset_info\": dataset_info(),\n",
    "    \"query\": \"How can I plot population against long, latitude ?\",\n",
    "}"
   ],
   "metadata": {
    "collapsed": false,
    "ExecuteTime": {
     "end_time": "2024-01-07T23:46:51.529757Z",
     "start_time": "2024-01-07T23:46:51.515188Z"
    }
   }
  },
  {
   "cell_type": "code",
   "execution_count": 329,
   "outputs": [
    {
     "name": "stdout",
     "output_type": "stream",
     "text": [
      "\n",
      "\n",
      "\u001B[1m> Entering new AgentExecutor chain...\u001B[0m\n",
      "\u001B[32;1m\u001B[1;3m\n",
      "Invoking: `package_install` with `{'package_names': ['matplotlib', 'seaborn']}`\n",
      "\n",
      "\n",
      "\u001B[0mRequirement already satisfied: matplotlib in /Users/reachusama/anaconda3/envs/datachat/lib/python3.10/site-packages (3.8.2)\n",
      "Collecting seaborn\n",
      "  Downloading seaborn-0.13.1-py3-none-any.whl.metadata (5.4 kB)\n",
      "Requirement already satisfied: contourpy>=1.0.1 in /Users/reachusama/anaconda3/envs/datachat/lib/python3.10/site-packages (from matplotlib) (1.2.0)\n",
      "Requirement already satisfied: cycler>=0.10 in /Users/reachusama/anaconda3/envs/datachat/lib/python3.10/site-packages (from matplotlib) (0.12.1)\n",
      "Requirement already satisfied: fonttools>=4.22.0 in /Users/reachusama/anaconda3/envs/datachat/lib/python3.10/site-packages (from matplotlib) (4.47.0)\n",
      "Requirement already satisfied: kiwisolver>=1.3.1 in /Users/reachusama/anaconda3/envs/datachat/lib/python3.10/site-packages (from matplotlib) (1.4.5)\n",
      "Requirement already satisfied: numpy<2,>=1.21 in /Users/reachusama/anaconda3/envs/datachat/lib/python3.10/site-packages (from matplotlib) (1.26.2)\n",
      "Requirement already satisfied: packaging>=20.0 in /Users/reachusama/anaconda3/envs/datachat/lib/python3.10/site-packages (from matplotlib) (23.1)\n",
      "Requirement already satisfied: pillow>=8 in /Users/reachusama/anaconda3/envs/datachat/lib/python3.10/site-packages (from matplotlib) (10.1.0)\n",
      "Requirement already satisfied: pyparsing>=2.3.1 in /Users/reachusama/anaconda3/envs/datachat/lib/python3.10/site-packages (from matplotlib) (3.1.1)\n",
      "Requirement already satisfied: python-dateutil>=2.7 in /Users/reachusama/anaconda3/envs/datachat/lib/python3.10/site-packages (from matplotlib) (2.8.2)\n",
      "Requirement already satisfied: pandas>=1.2 in /Users/reachusama/anaconda3/envs/datachat/lib/python3.10/site-packages (from seaborn) (2.1.4)\n",
      "Requirement already satisfied: pytz>=2020.1 in /Users/reachusama/anaconda3/envs/datachat/lib/python3.10/site-packages (from pandas>=1.2->seaborn) (2023.3.post1)\n",
      "Requirement already satisfied: tzdata>=2022.1 in /Users/reachusama/anaconda3/envs/datachat/lib/python3.10/site-packages (from pandas>=1.2->seaborn) (2023.3)\n",
      "Requirement already satisfied: six>=1.5 in /Users/reachusama/anaconda3/envs/datachat/lib/python3.10/site-packages (from python-dateutil>=2.7->matplotlib) (1.16.0)\n",
      "Downloading seaborn-0.13.1-py3-none-any.whl (294 kB)\n",
      "\u001B[2K   \u001B[90m━━━━━━━━━━━━━━━━━━━━━━━━━━━━━━━━━━━━━━━━\u001B[0m \u001B[32m294.8/294.8 kB\u001B[0m \u001B[31m6.4 MB/s\u001B[0m eta \u001B[36m0:00:00\u001B[0ma \u001B[36m0:00:01\u001B[0m\n",
      "\u001B[?25hInstalling collected packages: seaborn\n",
      "Successfully installed seaborn-0.13.1\n",
      "Packages successfully installed: matplotlib, seaborn.\n",
      "\u001B[36;1m\u001B[1;3mTrue\u001B[0m\u001B[32;1m\u001B[1;3m```python\n",
      "import matplotlib.pyplot as plt\n",
      "import seaborn as sns\n",
      "\n",
      "# Set the style of seaborn\n",
      "sns.set_style(\"whitegrid\")\n",
      "\n",
      "# Create a scatter plot of population against longitude and latitude\n",
      "plt.figure(figsize=(10, 8))\n",
      "sns.scatterplot(x='longitude', y='latitude', size='population', sizes=(20, 200), data=df, legend=False, alpha=0.5)\n",
      "plt.xlabel('Longitude')\n",
      "plt.ylabel('Latitude')\n",
      "plt.title('Population Distribution by Geographic Coordinates')\n",
      "plt.show()\n",
      "\n",
      "# Display the plot in Streamlit\n",
      "st.pyplot(plt)\n",
      "```\u001B[0m\n",
      "\n",
      "\u001B[1m> Finished chain.\u001B[0m\n"
     ]
    }
   ],
   "source": [
    "result = agent_executor.invoke(params)"
   ],
   "metadata": {
    "collapsed": false,
    "ExecuteTime": {
     "end_time": "2024-01-07T23:47:00.403967Z",
     "start_time": "2024-01-07T23:46:52.138685Z"
    }
   }
  },
  {
   "cell_type": "code",
   "execution_count": null,
   "outputs": [],
   "source": [],
   "metadata": {
    "collapsed": false
   }
  },
  {
   "cell_type": "code",
   "execution_count": 238,
   "outputs": [
    {
     "data": {
      "text/plain": "dict_keys(['dataset_info', 'query', 'output', 'intermediate_steps'])"
     },
     "execution_count": 238,
     "metadata": {},
     "output_type": "execute_result"
    }
   ],
   "source": [
    "result.keys()"
   ],
   "metadata": {
    "collapsed": false,
    "ExecuteTime": {
     "end_time": "2024-01-07T23:31:43.194085Z",
     "start_time": "2024-01-07T23:31:43.142411Z"
    }
   }
  },
  {
   "cell_type": "code",
   "execution_count": 239,
   "outputs": [
    {
     "data": {
      "text/plain": "[(AgentActionMessageLog(tool='package_install', tool_input={'package_names': ['matplotlib', 'plotly']}, log=\"\\nInvoking: `package_install` with `{'package_names': ['matplotlib', 'plotly']}`\\n\\n\\n\", message_log=[AIMessage(content='', additional_kwargs={'function_call': {'arguments': '{\"package_names\":[\"matplotlib\",\"plotly\"]}', 'name': 'package_install'}})]),\n  True)]"
     },
     "execution_count": 239,
     "metadata": {},
     "output_type": "execute_result"
    }
   ],
   "source": [
    "result['intermediate_steps']"
   ],
   "metadata": {
    "collapsed": false,
    "ExecuteTime": {
     "end_time": "2024-01-07T23:31:50.794450Z",
     "start_time": "2024-01-07T23:31:50.770097Z"
    }
   }
  },
  {
   "cell_type": "code",
   "execution_count": 70,
   "outputs": [
    {
     "data": {
      "text/plain": "{'dataset_info': \"<class 'pandas.core.frame.DataFrame'>\\nRangeIndex: 17000 entries, 0 to 16999\\nData columns (total 9 columns):\\n #   Column              Non-Null Count  Dtype  \\n---  ------              --------------  -----  \\n 0   longitude           17000 non-null  float64\\n 1   latitude            17000 non-null  float64\\n 2   housing_median_age  17000 non-null  float64\\n 3   total_rooms         17000 non-null  float64\\n 4   total_bedrooms      17000 non-null  float64\\n 5   population          17000 non-null  float64\\n 6   households          17000 non-null  float64\\n 7   median_income       17000 non-null  float64\\n 8   median_house_value  17000 non-null  float64\\ndtypes: float64(9)\\nmemory usage: 1.2 MB\\n\",\n 'query': 'How can I plot population against long, latitude ?',\n 'output': \"```python\\nimport matplotlib.pyplot as plt\\n\\nst.map(df[['latitude', 'longitude', 'population']])\\n\\nplt.figure(figsize=(10,6))\\nplt.scatter(df['longitude'], df['latitude'], c=df['population'], cmap='viridis')\\nplt.colorbar(label='population')\\nplt.xlabel('Longitude')\\nplt.ylabel('Latitude')\\nplt.title('Population Distribution')\\nst.pyplot(plt)\\n```\",\n 'intermediate_steps': []}"
     },
     "execution_count": 70,
     "metadata": {},
     "output_type": "execute_result"
    }
   ],
   "source": [
    "result"
   ],
   "metadata": {
    "collapsed": false,
    "ExecuteTime": {
     "end_time": "2024-01-07T22:37:31.003583Z",
     "start_time": "2024-01-07T22:37:30.979062Z"
    }
   }
  },
  {
   "cell_type": "code",
   "execution_count": null,
   "outputs": [],
   "source": [],
   "metadata": {
    "collapsed": false
   }
  }
 ],
 "metadata": {
  "kernelspec": {
   "display_name": "Python 3",
   "language": "python",
   "name": "python3"
  },
  "language_info": {
   "codemirror_mode": {
    "name": "ipython",
    "version": 2
   },
   "file_extension": ".py",
   "mimetype": "text/x-python",
   "name": "python",
   "nbconvert_exporter": "python",
   "pygments_lexer": "ipython2",
   "version": "2.7.6"
  }
 },
 "nbformat": 4,
 "nbformat_minor": 0
}
