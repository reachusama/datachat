{
 "cells": [
  {
   "cell_type": "markdown",
   "source": [
    "# Package Installer with Streamlit\n",
    "\n",
    "Streamlit turns data scripts into shareable web apps in minutes.\n",
    "\n",
    "We can use LLMs to create data scripts utilising streamlit but there is one issues to this problem.\n",
    "\n",
    "Often times, LLMs use packages that are not installed and they require manually installing them. This is where package comes in.\n",
    "\n",
    "Let' say that we want to convert natural language data queries into streamlit data scripts.\n"
   ],
   "metadata": {
    "collapsed": false
   }
  },
  {
   "cell_type": "code",
   "execution_count": 1,
   "outputs": [
    {
     "data": {
      "text/plain": "True"
     },
     "execution_count": 1,
     "metadata": {},
     "output_type": "execute_result"
    }
   ],
   "source": [
    "from langchain.agents import AgentType, initialize_agent\n",
    "from langchain.chat_models import ChatOpenAI\n",
    "from langchain_core.prompts import ChatPromptTemplate\n",
    "from langchain.prompts import HumanMessagePromptTemplate, SystemMessagePromptTemplate, MessagesPlaceholder\n",
    "from langchain.chains import LLMChain\n",
    "from langchain_core.messages import SystemMessage\n",
    "from dotenv import load_dotenv\n",
    "import pandas as pd\n",
    "import io\n",
    "load_dotenv()"
   ],
   "metadata": {
    "collapsed": false,
    "ExecuteTime": {
     "end_time": "2024-01-07T22:09:56.656071Z",
     "start_time": "2024-01-07T22:09:55.086871Z"
    }
   }
  },
  {
   "cell_type": "code",
   "execution_count": 2,
   "outputs": [],
   "source": [
    "chat_template = ChatPromptTemplate.from_messages(\n",
    "    [\n",
    "        SystemMessagePromptTemplate.from_template(\n",
    "            template_format=\"jinja2\",\n",
    "            template=\"\"\"Your are a data analyst. Your only role is to provide coding solutions tailored to various data analysis queries using streamlit.io. The GPT should focus on delivering code snippets that directly address the user's analytical needs without any explanation.\n",
    "\n",
    "The programming language should be Python and framework should be Streamlit. The output should not be in markdown format and only contain Python code without any explanation.\n",
    "\n",
    "For your convenience, the following libraries are pre-imported in this environment:\n",
    "```\n",
    "import streamlit as st\n",
    "import pandas as pd\n",
    "import numpy as np\n",
    "```\n",
    "\n",
    "The dataset has been already imported:\n",
    "```python\n",
    "df = pd.read_csv(\"path_to_your_csv_file.csv\")\n",
    "```\n",
    "\n",
    "Dataset Information:{{dataset_info}}\"\"\"\n",
    "        ),\n",
    "        HumanMessagePromptTemplate.from_template(\"{query}\"),\n",
    "        MessagesPlaceholder(variable_name=\"agent_scratchpad\")\n",
    "    ]\n",
    ")"
   ],
   "metadata": {
    "collapsed": false,
    "ExecuteTime": {
     "end_time": "2024-01-07T22:09:59.936610Z",
     "start_time": "2024-01-07T22:09:59.899760Z"
    }
   }
  },
  {
   "cell_type": "code",
   "execution_count": 3,
   "outputs": [],
   "source": [
    "llm = ChatOpenAI(model=\"gpt-4\", temperature=0)"
   ],
   "metadata": {
    "collapsed": false,
    "ExecuteTime": {
     "end_time": "2024-01-07T22:10:01.371154Z",
     "start_time": "2024-01-07T22:10:01.182490Z"
    }
   }
  },
  {
   "cell_type": "code",
   "execution_count": 4,
   "outputs": [],
   "source": [
    "# chain = LLMChain(llm=llm, prompt=chat_template)"
   ],
   "metadata": {
    "collapsed": false,
    "ExecuteTime": {
     "end_time": "2024-01-07T22:10:01.643939Z",
     "start_time": "2024-01-07T22:10:01.630293Z"
    }
   }
  },
  {
   "cell_type": "code",
   "execution_count": 5,
   "outputs": [],
   "source": [
    "df = pd.read_csv(\"../california_housing_train.csv\")"
   ],
   "metadata": {
    "collapsed": false,
    "ExecuteTime": {
     "end_time": "2024-01-07T22:10:02.147034Z",
     "start_time": "2024-01-07T22:10:02.122342Z"
    }
   }
  },
  {
   "cell_type": "code",
   "execution_count": 6,
   "outputs": [],
   "source": [
    "def dataset_info():\n",
    "    buf = io.StringIO()\n",
    "    df.info(buf=buf)\n",
    "    s = buf.getvalue()\n",
    "    return s"
   ],
   "metadata": {
    "collapsed": false,
    "ExecuteTime": {
     "end_time": "2024-01-07T22:10:02.659525Z",
     "start_time": "2024-01-07T22:10:02.648348Z"
    }
   }
  },
  {
   "cell_type": "code",
   "execution_count": 7,
   "outputs": [],
   "source": [
    "# params = {\"dataset_info\": dataset_info(), \"query\": \"How can I plot population against long, latitude ?\"}"
   ],
   "metadata": {
    "collapsed": false,
    "ExecuteTime": {
     "end_time": "2024-01-07T22:10:08.875992Z",
     "start_time": "2024-01-07T22:10:08.868346Z"
    }
   }
  },
  {
   "cell_type": "code",
   "execution_count": 8,
   "outputs": [],
   "source": [
    "# ans = chain.run(params)"
   ],
   "metadata": {
    "collapsed": false,
    "ExecuteTime": {
     "end_time": "2024-01-07T22:10:09.389524Z",
     "start_time": "2024-01-07T22:10:09.372159Z"
    }
   }
  },
  {
   "cell_type": "code",
   "execution_count": 9,
   "outputs": [],
   "source": [
    "# print(ans.replace(\"`\", \"\").replace(\"python\", \"\"))"
   ],
   "metadata": {
    "collapsed": false,
    "ExecuteTime": {
     "end_time": "2024-01-07T22:10:09.745670Z",
     "start_time": "2024-01-07T22:10:09.722713Z"
    }
   }
  },
  {
   "cell_type": "code",
   "execution_count": 10,
   "outputs": [],
   "source": [
    "import subprocess\n",
    "import sys\n",
    "from typing import List, Optional, Type, Union\n",
    "\n",
    "from langchain_core.callbacks import (\n",
    "    AsyncCallbackManagerForToolRun,\n",
    "    CallbackManagerForToolRun,\n",
    ")\n",
    "from langchain_core.pydantic_v1 import BaseModel, Field\n",
    "from langchain_core.tools import BaseTool, Tool\n",
    "\n",
    "class PackageInstallInput(BaseModel):\n",
    "    \"\"\"Arguments for the PackageInstallTool.\"\"\"\n",
    "\n",
    "    package_names: Union[str, List[str]] = Field(\n",
    "        ...,\n",
    "        description=\"List of package name(s) to install\",\n",
    "        examples=[\"pandas\", [\"pandas\", \"numpy\"]],\n",
    "    )\n",
    "\n",
    "class PackageInstallTool(BaseTool):\n",
    "    \"\"\"Tool that installs Python packages in runtime.\"\"\"\n",
    "\n",
    "    name: str = \"package_install\"\n",
    "    args_schema: Type[BaseModel] = PackageInstallInput\n",
    "    description: str = \"Install Python packages during run time.\"\n",
    "\n",
    "    def _run(\n",
    "        self,\n",
    "        package_names: Union[str, List[str]],\n",
    "        run_manager: Optional[CallbackManagerForToolRun] = None,\n",
    "    ) -> bool:\n",
    "        try:\n",
    "            if isinstance(package_names, str):\n",
    "                package_names = [package_names]\n",
    "            subprocess.check_call(\n",
    "                [sys.executable, \"-m\", \"pip\", \"install\", *package_names]\n",
    "            )\n",
    "            print(f\"Packages successfully installed: {', '.join(package_names)}.\")\n",
    "            return True\n",
    "        except Exception as e:\n",
    "            print(\"Error: \" + str(e))\n",
    "            return False\n",
    "\n",
    "    async def _arun(\n",
    "        self,\n",
    "        package_names: List[str],\n",
    "        run_manager: Optional[AsyncCallbackManagerForToolRun] = None,\n",
    "    ) -> str:\n",
    "        raise NotImplementedError(f\"{self.name} does not support async\")\n",
    "\n",
    "    def as_tool(self) -> Tool:\n",
    "        return Tool.from_function(\n",
    "            func=self._run,\n",
    "            name=self.name,\n",
    "            description=self.description,\n",
    "            args_schema=self.args_schema,\n",
    "        )"
   ],
   "metadata": {
    "collapsed": false,
    "ExecuteTime": {
     "end_time": "2024-01-07T22:10:10.292630Z",
     "start_time": "2024-01-07T22:10:10.286587Z"
    }
   }
  },
  {
   "cell_type": "code",
   "execution_count": 11,
   "outputs": [],
   "source": [
    "tools = [PackageInstallTool().as_tool()]"
   ],
   "metadata": {
    "collapsed": false,
    "ExecuteTime": {
     "end_time": "2024-01-07T22:10:11.939854Z",
     "start_time": "2024-01-07T22:10:11.931138Z"
    }
   }
  },
  {
   "cell_type": "code",
   "execution_count": 12,
   "outputs": [
    {
     "data": {
      "text/plain": "[Tool(name='package_install', description='Install Python packages during run time.', args_schema=<class '__main__.PackageInstallInput'>, func=<bound method PackageInstallTool._run of PackageInstallTool()>)]"
     },
     "execution_count": 12,
     "metadata": {},
     "output_type": "execute_result"
    }
   ],
   "source": [
    "tools"
   ],
   "metadata": {
    "collapsed": false,
    "ExecuteTime": {
     "end_time": "2024-01-07T22:10:15.867379Z",
     "start_time": "2024-01-07T22:10:15.852741Z"
    }
   }
  },
  {
   "cell_type": "code",
   "execution_count": 13,
   "outputs": [],
   "source": [
    "from langchain_community.tools.convert_to_openai import format_tool_to_openai_function\n",
    "llm_with_tools = llm.bind(functions=[format_tool_to_openai_function(t) for t in tools])"
   ],
   "metadata": {
    "collapsed": false,
    "ExecuteTime": {
     "end_time": "2024-01-07T22:10:49.625630Z",
     "start_time": "2024-01-07T22:10:49.622202Z"
    }
   }
  },
  {
   "cell_type": "code",
   "execution_count": 14,
   "outputs": [],
   "source": [
    "from langchain.agents.format_scratchpad import format_to_openai_function_messages\n",
    "from langchain.agents.output_parsers import OpenAIFunctionsAgentOutputParser\n",
    "\n",
    "agent = (\n",
    "    {\n",
    "        \"dataset_info\": lambda x: x[\"dataset_info\"],\n",
    "        \"query\": lambda x: x[\"query\"],\n",
    "        \"agent_scratchpad\": lambda x: format_to_openai_function_messages(\n",
    "            x[\"intermediate_steps\"]\n",
    "        ),\n",
    "    }\n",
    "    | chat_template\n",
    "    | llm_with_tools\n",
    "    | OpenAIFunctionsAgentOutputParser()\n",
    ")"
   ],
   "metadata": {
    "collapsed": false,
    "ExecuteTime": {
     "end_time": "2024-01-07T22:12:14.056098Z",
     "start_time": "2024-01-07T22:12:14.011461Z"
    }
   }
  },
  {
   "cell_type": "code",
   "execution_count": 15,
   "outputs": [],
   "source": [
    "from langchain.agents import AgentExecutor\n",
    "\n",
    "agent_executor = AgentExecutor(agent=agent, tools=tools, verbose=True)"
   ],
   "metadata": {
    "collapsed": false,
    "ExecuteTime": {
     "end_time": "2024-01-07T22:12:14.909135Z",
     "start_time": "2024-01-07T22:12:14.904288Z"
    }
   }
  },
  {
   "cell_type": "code",
   "execution_count": 16,
   "outputs": [],
   "source": [
    "params = {\"dataset_info\": dataset_info(), \"query\": \"How can I plot population against long, latitude ?\"}"
   ],
   "metadata": {
    "collapsed": false,
    "ExecuteTime": {
     "end_time": "2024-01-07T22:12:16.128689Z",
     "start_time": "2024-01-07T22:12:16.120312Z"
    }
   }
  },
  {
   "cell_type": "code",
   "execution_count": 17,
   "outputs": [
    {
     "name": "stdout",
     "output_type": "stream",
     "text": [
      "\n",
      "\n",
      "\u001B[1m> Entering new AgentExecutor chain...\u001B[0m\n",
      "\u001B[32;1m\u001B[1;3m```python\n",
      "import matplotlib.pyplot as plt\n",
      "\n",
      "st.title('Population Distribution')\n",
      "\n",
      "# Create a scatter plot\n",
      "fig, ax = plt.subplots()\n",
      "scatter = ax.scatter(df['longitude'], df['latitude'], c=df['population'], cmap='viridis')\n",
      "\n",
      "# Add a colorbar\n",
      "plt.colorbar(scatter)\n",
      "\n",
      "ax.set_xlabel('Longitude')\n",
      "ax.set_ylabel('Latitude')\n",
      "ax.set_title('Population Distribution')\n",
      "\n",
      "st.pyplot(fig)\n",
      "```\u001B[0m\n",
      "\n",
      "\u001B[1m> Finished chain.\u001B[0m\n"
     ]
    }
   ],
   "source": [
    "result = agent_executor.invoke(params)"
   ],
   "metadata": {
    "collapsed": false,
    "ExecuteTime": {
     "end_time": "2024-01-07T22:12:21.621702Z",
     "start_time": "2024-01-07T22:12:16.752110Z"
    }
   }
  },
  {
   "cell_type": "code",
   "execution_count": 18,
   "outputs": [
    {
     "name": "stdout",
     "output_type": "stream",
     "text": [
      "```python\n",
      "import matplotlib.pyplot as plt\n",
      "\n",
      "st.title('Population Distribution')\n",
      "\n",
      "# Create a scatter plot\n",
      "fig, ax = plt.subplots()\n",
      "scatter = ax.scatter(df['longitude'], df['latitude'], c=df['population'], cmap='viridis')\n",
      "\n",
      "# Add a colorbar\n",
      "plt.colorbar(scatter)\n",
      "\n",
      "ax.set_xlabel('Longitude')\n",
      "ax.set_ylabel('Latitude')\n",
      "ax.set_title('Population Distribution')\n",
      "\n",
      "st.pyplot(fig)\n",
      "```\n"
     ]
    }
   ],
   "source": [
    "print(result['output'])"
   ],
   "metadata": {
    "collapsed": false,
    "ExecuteTime": {
     "end_time": "2024-01-07T22:12:37.774948Z",
     "start_time": "2024-01-07T22:12:37.770555Z"
    }
   }
  },
  {
   "cell_type": "code",
   "execution_count": null,
   "outputs": [],
   "source": [],
   "metadata": {
    "collapsed": false
   }
  }
 ],
 "metadata": {
  "kernelspec": {
   "display_name": "Python 3",
   "language": "python",
   "name": "python3"
  },
  "language_info": {
   "codemirror_mode": {
    "name": "ipython",
    "version": 2
   },
   "file_extension": ".py",
   "mimetype": "text/x-python",
   "name": "python",
   "nbconvert_exporter": "python",
   "pygments_lexer": "ipython2",
   "version": "2.7.6"
  }
 },
 "nbformat": 4,
 "nbformat_minor": 0
}
