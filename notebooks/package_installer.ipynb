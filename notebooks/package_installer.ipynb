{
 "cells": [
  {
   "cell_type": "markdown",
   "source": [
    "# Package Installer with Streamlit\n",
    "\n",
    "Streamlit turns data scripts into shareable web apps in minutes.\n",
    "\n",
    "We can use LLMs to create data scripts utilising streamlit but there is one issues to this problem.\n",
    "\n",
    "Often times, LLMs use packages that are not installed and they require manually installing them. This is where package comes in.\n",
    "\n",
    "Let' say that we want to convert natural language data queries into streamlit data scripts.\n"
   ],
   "metadata": {
    "collapsed": false
   }
  },
  {
   "cell_type": "code",
   "execution_count": 34,
   "outputs": [
    {
     "data": {
      "text/plain": "True"
     },
     "execution_count": 34,
     "metadata": {},
     "output_type": "execute_result"
    }
   ],
   "source": [
    "from langchain.agents import AgentType, initialize_agent\n",
    "from langchain.chat_models import ChatOpenAI\n",
    "from langchain_core.prompts import ChatPromptTemplate\n",
    "from langchain.prompts import HumanMessagePromptTemplate, SystemMessagePromptTemplate, MessagesPlaceholder\n",
    "from langchain.chains import LLMChain\n",
    "from langchain_core.messages import SystemMessage\n",
    "from dotenv import load_dotenv\n",
    "import pandas as pd\n",
    "import io\n",
    "\n",
    "load_dotenv()"
   ],
   "metadata": {
    "collapsed": false,
    "ExecuteTime": {
     "end_time": "2024-01-07T22:20:49.458168Z",
     "start_time": "2024-01-07T22:20:49.416980Z"
    }
   }
  },
  {
   "cell_type": "code",
   "execution_count": 128,
   "outputs": [],
   "source": [
    "# prompt = ChatPromptTemplate.from_messages(\n",
    "#     [\n",
    "#         SystemMessagePromptTemplate.from_template(\n",
    "#             template_format=\"jinja2\",\n",
    "#             template=\"\"\"Your are a data analyst. Your only role is to provide code snippets in Python tailored to various data analysis queries using streamlit.io. Do not explain anything and provide only code as output. You will also invoke the provided tools to install packages imported in the code.\n",
    "#\n",
    "# The following libraries are pre-imported and installed in this environment:\n",
    "# ```\n",
    "# import streamlit as st\n",
    "# import pandas as pd\n",
    "# import numpy as np\n",
    "# ```\n",
    "#\n",
    "# The dataset has been already imported:\n",
    "# ```python\n",
    "# df = pd.read_csv(\"path_to_your_csv_file.csv\")\n",
    "# ```\n",
    "#\n",
    "# Dataset Information:{{dataset_info}}\"\"\"\n",
    "#         ),\n",
    "#         HumanMessagePromptTemplate.from_template(\"{query}\"),\n",
    "#         MessagesPlaceholder(variable_name=\"agent_scratchpad\")\n",
    "#     ]\n",
    "# )"
   ],
   "metadata": {
    "collapsed": false,
    "ExecuteTime": {
     "end_time": "2024-01-07T22:57:47.529811Z",
     "start_time": "2024-01-07T22:57:47.498768Z"
    }
   }
  },
  {
   "cell_type": "code",
   "execution_count": 134,
   "outputs": [],
   "source": [
    "import subprocess\n",
    "import sys\n",
    "from typing import List, Optional, Type, Union\n",
    "\n",
    "from langchain_core.callbacks import (\n",
    "    AsyncCallbackManagerForToolRun,\n",
    "    CallbackManagerForToolRun,\n",
    ")\n",
    "from langchain_core.pydantic_v1 import BaseModel, Field\n",
    "from langchain_core.tools import BaseTool, Tool\n",
    "\n",
    "\n",
    "class PackageInstallInput(BaseModel):\n",
    "    \"\"\"Arguments for the PackageInstallTool.\"\"\"\n",
    "\n",
    "    package_names: Union[str, List[str]] = Field(\n",
    "        ...,\n",
    "        description=\"List of package name(s) to install\",\n",
    "        examples=[\"matplotlib\", [\"pandas\", \"numpy\"]],\n",
    "    )\n",
    "\n",
    "\n",
    "class PackageInstallTool(BaseTool):\n",
    "    \"\"\"Tool that installs Python packages in runtime.\"\"\"\n",
    "\n",
    "    name: str = \"package_install\"\n",
    "    args_schema: Type[BaseModel] = PackageInstallInput\n",
    "    description: str = \"Install Python packages dynamically during runtime as they are imported\"\n",
    "\n",
    "    def _run(\n",
    "            self,\n",
    "            package_names: Union[str, List[str]],\n",
    "            run_manager: Optional[CallbackManagerForToolRun] = None,\n",
    "    ) -> bool:\n",
    "        try:\n",
    "            if isinstance(package_names, str):\n",
    "                package_names = [package_names]\n",
    "            subprocess.check_call(\n",
    "                [sys.executable, \"-m\", \"pip\", \"install\", *package_names]\n",
    "            )\n",
    "            print(f\"Packages successfully installed: {', '.join(package_names)}.\")\n",
    "            return True\n",
    "        except Exception as e:\n",
    "            print(\"Error: \" + str(e))\n",
    "            return False\n",
    "\n",
    "    async def _arun(\n",
    "            self,\n",
    "            package_names: List[str],\n",
    "            run_manager: Optional[AsyncCallbackManagerForToolRun] = None,\n",
    "    ) -> str:\n",
    "        raise NotImplementedError(f\"{self.name} does not support async\")\n",
    "\n",
    "    def as_tool(self) -> Tool:\n",
    "        return Tool.from_function(\n",
    "            func=self._run,\n",
    "            name=self.name,\n",
    "            description=self.description,\n",
    "            args_schema=self.args_schema,\n",
    "        )"
   ],
   "metadata": {
    "collapsed": false,
    "ExecuteTime": {
     "end_time": "2024-01-07T22:58:04.908638Z",
     "start_time": "2024-01-07T22:58:04.886238Z"
    }
   }
  },
  {
   "cell_type": "code",
   "execution_count": 158,
   "outputs": [],
   "source": [
    "prompt = ChatPromptTemplate.from_messages(\n",
    "    [\n",
    "        SystemMessagePromptTemplate.from_template(\n",
    "            template_format=\"jinja2\",\n",
    "            template=\"\"\"Your are a data analyst. Your role is to provide code snippets in Python tailored to various data analysis queries using streamlit.io, and install any imported packages using the provided tools.\n",
    "\n",
    "Dataset Information:{{dataset_info}}\"\"\"\n",
    "        ),\n",
    "        HumanMessagePromptTemplate.from_template(\"{query}\"),\n",
    "        MessagesPlaceholder(variable_name=\"agent_scratchpad\")\n",
    "    ]\n",
    ")"
   ],
   "metadata": {
    "collapsed": false,
    "ExecuteTime": {
     "end_time": "2024-01-07T23:00:55.897955Z",
     "start_time": "2024-01-07T23:00:55.859707Z"
    }
   }
  },
  {
   "cell_type": "code",
   "execution_count": 159,
   "outputs": [],
   "source": [
    "llm = ChatOpenAI(model=\"gpt-3.5-turbo-1106\", temperature=0)"
   ],
   "metadata": {
    "collapsed": false,
    "ExecuteTime": {
     "end_time": "2024-01-07T23:00:56.092565Z",
     "start_time": "2024-01-07T23:00:56.021726Z"
    }
   }
  },
  {
   "cell_type": "code",
   "execution_count": 160,
   "outputs": [],
   "source": [
    "df = pd.read_csv(\"../california_housing_train.csv\")"
   ],
   "metadata": {
    "collapsed": false,
    "ExecuteTime": {
     "end_time": "2024-01-07T23:00:56.216454Z",
     "start_time": "2024-01-07T23:00:56.205220Z"
    }
   }
  },
  {
   "cell_type": "code",
   "execution_count": 161,
   "outputs": [],
   "source": [
    "def dataset_info():\n",
    "    buf = io.StringIO()\n",
    "    df.info(buf=buf)\n",
    "    s = buf.getvalue()\n",
    "    return s"
   ],
   "metadata": {
    "collapsed": false,
    "ExecuteTime": {
     "end_time": "2024-01-07T23:00:56.445375Z",
     "start_time": "2024-01-07T23:00:56.437105Z"
    }
   }
  },
  {
   "cell_type": "code",
   "execution_count": 162,
   "outputs": [],
   "source": [
    "tools = [PackageInstallTool().as_tool()]"
   ],
   "metadata": {
    "collapsed": false,
    "ExecuteTime": {
     "end_time": "2024-01-07T23:00:56.725680Z",
     "start_time": "2024-01-07T23:00:56.714250Z"
    }
   }
  },
  {
   "cell_type": "code",
   "execution_count": 170,
   "outputs": [],
   "source": [
    "from langchain.agents import AgentExecutor, create_openai_functions_agent\n",
    "agent = create_openai_functions_agent(llm, tools, prompt)"
   ],
   "metadata": {
    "collapsed": false,
    "ExecuteTime": {
     "end_time": "2024-01-07T23:01:50.200595Z",
     "start_time": "2024-01-07T23:01:50.186035Z"
    }
   }
  },
  {
   "cell_type": "code",
   "execution_count": 171,
   "outputs": [],
   "source": [
    "# from langchain_community.tools.convert_to_openai import format_tool_to_openai_function\n",
    "# llm_with_tools = llm.bind(functions=[format_tool_to_openai_function(t) for t in tools])"
   ],
   "metadata": {
    "collapsed": false,
    "ExecuteTime": {
     "end_time": "2024-01-07T23:01:51.013030Z",
     "start_time": "2024-01-07T23:01:51.004871Z"
    }
   }
  },
  {
   "cell_type": "code",
   "execution_count": 172,
   "outputs": [],
   "source": [
    "# def function(x):\n",
    "#     print(x)\n",
    "#     return format_to_openai_function_messages(x[\"intermediate_steps\"])"
   ],
   "metadata": {
    "collapsed": false,
    "ExecuteTime": {
     "end_time": "2024-01-07T23:01:51.237583Z",
     "start_time": "2024-01-07T23:01:51.227915Z"
    }
   }
  },
  {
   "cell_type": "code",
   "execution_count": 173,
   "outputs": [],
   "source": [
    "# from langchain.agents.format_scratchpad import format_to_openai_function_messages\n",
    "# from langchain.agents.output_parsers import OpenAIFunctionsAgentOutputParser\n",
    "#\n",
    "# agent = (\n",
    "#         {\n",
    "#             \"dataset_info\": lambda x: x[\"dataset_info\"],\n",
    "#             \"query\": lambda x: x[\"query\"],\n",
    "#             \"agent_scratchpad\": lambda x: function(x),\n",
    "#         }\n",
    "#         | prompt\n",
    "#         | llm_with_tools\n",
    "#         | OpenAIFunctionsAgentOutputParser()\n",
    "# )"
   ],
   "metadata": {
    "collapsed": false,
    "ExecuteTime": {
     "end_time": "2024-01-07T23:01:51.444879Z",
     "start_time": "2024-01-07T23:01:51.441232Z"
    }
   }
  },
  {
   "cell_type": "code",
   "execution_count": 174,
   "outputs": [],
   "source": [
    "from langchain.agents import AgentExecutor\n",
    "\n",
    "agent_executor = AgentExecutor(\n",
    "    agent=agent,\n",
    "    tools=tools,\n",
    "    verbose=True,\n",
    "    return_intermediate_steps=True\n",
    ")"
   ],
   "metadata": {
    "collapsed": false,
    "ExecuteTime": {
     "end_time": "2024-01-07T23:01:51.685962Z",
     "start_time": "2024-01-07T23:01:51.683596Z"
    }
   }
  },
  {
   "cell_type": "code",
   "execution_count": 175,
   "outputs": [],
   "source": [
    "params = {\n",
    "    \"dataset_info\": dataset_info(),\n",
    "    \"query\": \"How can I plot population against long, latitude ?\",\n",
    "    # \"agent_scratchpad\": \"Generate  the code. Then use Package Installer to install any packages imported in the code.\"\n",
    "}"
   ],
   "metadata": {
    "collapsed": false,
    "ExecuteTime": {
     "end_time": "2024-01-07T23:01:52.673173Z",
     "start_time": "2024-01-07T23:01:52.660746Z"
    }
   }
  },
  {
   "cell_type": "code",
   "execution_count": 176,
   "outputs": [
    {
     "name": "stdout",
     "output_type": "stream",
     "text": [
      "\n",
      "\n",
      "\u001B[1m> Entering new AgentExecutor chain...\u001B[0m\n",
      "\u001B[32;1m\u001B[1;3m\n",
      "Invoking: `package_install` with `{'package_names': 'matplotlib'}`\n",
      "\n",
      "\n",
      "\u001B[0mRequirement already satisfied: matplotlib in /Users/reachusama/anaconda3/envs/datachat/lib/python3.10/site-packages (3.8.2)\n",
      "Requirement already satisfied: contourpy>=1.0.1 in /Users/reachusama/anaconda3/envs/datachat/lib/python3.10/site-packages (from matplotlib) (1.2.0)\n",
      "Requirement already satisfied: cycler>=0.10 in /Users/reachusama/anaconda3/envs/datachat/lib/python3.10/site-packages (from matplotlib) (0.12.1)\n",
      "Requirement already satisfied: fonttools>=4.22.0 in /Users/reachusama/anaconda3/envs/datachat/lib/python3.10/site-packages (from matplotlib) (4.47.0)\n",
      "Requirement already satisfied: kiwisolver>=1.3.1 in /Users/reachusama/anaconda3/envs/datachat/lib/python3.10/site-packages (from matplotlib) (1.4.5)\n",
      "Requirement already satisfied: numpy<2,>=1.21 in /Users/reachusama/anaconda3/envs/datachat/lib/python3.10/site-packages (from matplotlib) (1.26.2)\n",
      "Requirement already satisfied: packaging>=20.0 in /Users/reachusama/anaconda3/envs/datachat/lib/python3.10/site-packages (from matplotlib) (23.1)\n",
      "Requirement already satisfied: pillow>=8 in /Users/reachusama/anaconda3/envs/datachat/lib/python3.10/site-packages (from matplotlib) (10.1.0)\n",
      "Requirement already satisfied: pyparsing>=2.3.1 in /Users/reachusama/anaconda3/envs/datachat/lib/python3.10/site-packages (from matplotlib) (3.1.1)\n",
      "Requirement already satisfied: python-dateutil>=2.7 in /Users/reachusama/anaconda3/envs/datachat/lib/python3.10/site-packages (from matplotlib) (2.8.2)\n",
      "Requirement already satisfied: six>=1.5 in /Users/reachusama/anaconda3/envs/datachat/lib/python3.10/site-packages (from python-dateutil>=2.7->matplotlib) (1.16.0)\n",
      "Packages successfully installed: matplotlib.\n",
      "\u001B[36;1m\u001B[1;3mTrue\u001B[0m\u001B[32;1m\u001B[1;3mYou can use the following code snippet to plot population against longitude and latitude using streamlit.io:\n",
      "\n",
      "```python\n",
      "import streamlit as st\n",
      "import matplotlib.pyplot as plt\n",
      "import pandas as pd\n",
      "\n",
      "# Load the dataset\n",
      "data = pd.read_csv('path_to_your_dataset.csv')\n",
      "\n",
      "# Create a scatter plot\n",
      "fig, ax = plt.subplots()\n",
      "scatter = ax.scatter(data['longitude'], data['latitude'], s=data['population']/100, alpha=0.5)\n",
      "\n",
      "# Customize the plot\n",
      "ax.set_xlabel('Longitude')\n",
      "ax.set_ylabel('Latitude')\n",
      "ax.set_title('Population Distribution')\n",
      "\n",
      "# Show the plot using Streamlit\n",
      "st.pyplot(fig)\n",
      "```\u001B[0m\n",
      "\n",
      "\u001B[1m> Finished chain.\u001B[0m\n"
     ]
    }
   ],
   "source": [
    "result = agent_executor.invoke(params)"
   ],
   "metadata": {
    "collapsed": false,
    "ExecuteTime": {
     "end_time": "2024-01-07T23:01:58.556133Z",
     "start_time": "2024-01-07T23:01:53.476301Z"
    }
   }
  },
  {
   "cell_type": "code",
   "execution_count": 177,
   "outputs": [
    {
     "name": "stdout",
     "output_type": "stream",
     "text": [
      "You can use the following code snippet to plot population against longitude and latitude using streamlit.io:\n",
      "\n",
      "```python\n",
      "import streamlit as st\n",
      "import matplotlib.pyplot as plt\n",
      "import pandas as pd\n",
      "\n",
      "# Load the dataset\n",
      "data = pd.read_csv('path_to_your_dataset.csv')\n",
      "\n",
      "# Create a scatter plot\n",
      "fig, ax = plt.subplots()\n",
      "scatter = ax.scatter(data['longitude'], data['latitude'], s=data['population']/100, alpha=0.5)\n",
      "\n",
      "# Customize the plot\n",
      "ax.set_xlabel('Longitude')\n",
      "ax.set_ylabel('Latitude')\n",
      "ax.set_title('Population Distribution')\n",
      "\n",
      "# Show the plot using Streamlit\n",
      "st.pyplot(fig)\n",
      "```\n"
     ]
    }
   ],
   "source": [
    "print(result['output'])"
   ],
   "metadata": {
    "collapsed": false,
    "ExecuteTime": {
     "end_time": "2024-01-07T23:02:11.153001Z",
     "start_time": "2024-01-07T23:02:11.139092Z"
    }
   }
  },
  {
   "cell_type": "code",
   "execution_count": 70,
   "outputs": [
    {
     "data": {
      "text/plain": "{'dataset_info': \"<class 'pandas.core.frame.DataFrame'>\\nRangeIndex: 17000 entries, 0 to 16999\\nData columns (total 9 columns):\\n #   Column              Non-Null Count  Dtype  \\n---  ------              --------------  -----  \\n 0   longitude           17000 non-null  float64\\n 1   latitude            17000 non-null  float64\\n 2   housing_median_age  17000 non-null  float64\\n 3   total_rooms         17000 non-null  float64\\n 4   total_bedrooms      17000 non-null  float64\\n 5   population          17000 non-null  float64\\n 6   households          17000 non-null  float64\\n 7   median_income       17000 non-null  float64\\n 8   median_house_value  17000 non-null  float64\\ndtypes: float64(9)\\nmemory usage: 1.2 MB\\n\",\n 'query': 'How can I plot population against long, latitude ?',\n 'output': \"```python\\nimport matplotlib.pyplot as plt\\n\\nst.map(df[['latitude', 'longitude', 'population']])\\n\\nplt.figure(figsize=(10,6))\\nplt.scatter(df['longitude'], df['latitude'], c=df['population'], cmap='viridis')\\nplt.colorbar(label='population')\\nplt.xlabel('Longitude')\\nplt.ylabel('Latitude')\\nplt.title('Population Distribution')\\nst.pyplot(plt)\\n```\",\n 'intermediate_steps': []}"
     },
     "execution_count": 70,
     "metadata": {},
     "output_type": "execute_result"
    }
   ],
   "source": [
    "result"
   ],
   "metadata": {
    "collapsed": false,
    "ExecuteTime": {
     "end_time": "2024-01-07T22:37:31.003583Z",
     "start_time": "2024-01-07T22:37:30.979062Z"
    }
   }
  },
  {
   "cell_type": "code",
   "execution_count": null,
   "outputs": [],
   "source": [],
   "metadata": {
    "collapsed": false
   }
  }
 ],
 "metadata": {
  "kernelspec": {
   "display_name": "Python 3",
   "language": "python",
   "name": "python3"
  },
  "language_info": {
   "codemirror_mode": {
    "name": "ipython",
    "version": 2
   },
   "file_extension": ".py",
   "mimetype": "text/x-python",
   "name": "python",
   "nbconvert_exporter": "python",
   "pygments_lexer": "ipython2",
   "version": "2.7.6"
  }
 },
 "nbformat": 4,
 "nbformat_minor": 0
}
